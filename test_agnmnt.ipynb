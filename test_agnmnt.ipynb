{
 "cells": [
  {
   "cell_type": "code",
   "execution_count": 20,
   "id": "fd4a79df-c15b-4794-b650-2364e80cb187",
   "metadata": {},
   "outputs": [],
   "source": [
    "import re\n",
    "import os\n",
    "import openai\n",
    "from langchain.embeddings import OpenAIEmbeddings\n",
    "from langchain.vectorstores import FAISS\n",
    "from langchain_openai import OpenAI\n",
    "from langchain.chains import LLMChain\n",
    "from langchain.prompts import PromptTemplate"
   ]
  },
  {
   "cell_type": "code",
   "execution_count": 21,
   "id": "fc0bc02e-e8ef-4aa4-a25e-61c76c8eacf7",
   "metadata": {},
   "outputs": [
    {
     "data": {
      "text/plain": [
       "True"
      ]
     },
     "execution_count": 21,
     "metadata": {},
     "output_type": "execute_result"
    }
   ],
   "source": [
    "from dotenv import load_dotenv\n",
    "load_dotenv()"
   ]
  },
  {
   "cell_type": "code",
   "execution_count": 22,
   "id": "92d960ed-1d02-4007-a40a-fddf21a19849",
   "metadata": {},
   "outputs": [],
   "source": [
    "from transformers import pipeline"
   ]
  },
  {
   "cell_type": "code",
   "execution_count": 41,
   "id": "8d3c8143-d761-4d7a-bdd5-36e08e10a84f",
   "metadata": {},
   "outputs": [],
   "source": [
    "from sentence_transformers import util"
   ]
  },
  {
   "cell_type": "code",
   "execution_count": 42,
   "id": "b63104a9-db9f-4a4f-b78b-190a2a9d1754",
   "metadata": {},
   "outputs": [],
   "source": [
    "from sentence_transformers import SentenceTransformer\n",
    "\n",
    "model = SentenceTransformer(\"all-MiniLM-L6-v2\")"
   ]
  },
  {
   "cell_type": "code",
   "execution_count": 43,
   "id": "23716e5e-3708-4b98-ba7b-e54efd45faf0",
   "metadata": {},
   "outputs": [],
   "source": [
    "# api_key = os.getenv(\"OPENAI_API_KEY\")\n",
    "# if not api_key:\n",
    "#     raise RuntimeError(\"OPENAI_API_KEY not set in environment\")"
   ]
  },
  {
   "cell_type": "code",
   "execution_count": 44,
   "id": "cee9bbdd-d931-41a7-90af-323b8ff429f8",
   "metadata": {},
   "outputs": [],
   "source": [
    "# embeddings = OpenAIEmbeddings()\n",
    "# llm = OpenAI(temperature=0.7, openai_api_key=os.getenv(\"OPENAI_API_KEY\"))\n"
   ]
  },
  {
   "cell_type": "code",
   "execution_count": 45,
   "id": "0b0106a1-8ddb-4711-bb83-105024d23ead",
   "metadata": {},
   "outputs": [],
   "source": [
    "career_data = [\n",
    "    {\"career\": \"Software Developer\", \"keywords\": [\"coding\", \"programming\", \"technology\", \"computers\"], \"strengths\": [\"math\", \"computer science\"]},\n",
    "    {\"career\": \"Graphic Designer\", \"keywords\": [\"art\", \"design\", \"creativity\", \"visual\"], \"strengths\": [\"art\", \"design\"]},\n",
    "    {\"career\": \"Sports Coach\", \"keywords\": [\"sports\", \"coaching\", \"teamwork\", \"leadership\"], \"strengths\": [\"physical education\", \"psychology\"]},\n",
    "    {\"career\": \"Environmental Scientist\", \"keywords\": [\"science\", \"nature\", \"experiments\", \"environment\"], \"strengths\": [\"science\", \"biology\"]},\n",
    "    {\"career\": \"Writer\", \"keywords\": [\"writing\", \"stories\", \"creativity\", \"literature\"], \"strengths\": [\"english\", \"literature\"]}\n",
    "]"
   ]
  },
  {
   "cell_type": "code",
   "execution_count": 46,
   "id": "a04e4a89-3553-40b9-a427-e09b0da7476a",
   "metadata": {},
   "outputs": [],
   "source": [
    "career_texts = [\" \".join(c[\"keywords\"]) for c in career_data]\n",
    "career_embeddings = model.encode(career_texts, convert_to_tensor=True)"
   ]
  },
  {
   "cell_type": "code",
   "execution_count": 48,
   "id": "d4db21a5-34e1-4741-ad7d-8484a3fcf3e8",
   "metadata": {},
   "outputs": [],
   "source": [
    "# vector stoer\n",
    "# career_texts = [\" \".join(career[\"keywords\"]) for career in career_data]\n",
    "# vector_store = FAISS.from_texts(career_texts, embeddings)"
   ]
  },
  {
   "cell_type": "code",
   "execution_count": 49,
   "id": "a1a2cd85-33e7-43b5-8f3e-24635c91a816",
   "metadata": {},
   "outputs": [],
   "source": [
    "INTEREST_PROMPT = \"Extract the main interests from the following response: {response}\"\n",
    "STRENGTH_PROMPT = \"Extract the academic subjects the user is strong in from the following response: {response}\"\n",
    "EXPLANATION_PROMPT = \"Explain why a career as a {career} might be a good fit for someone interested in {interests} and strong in {strengths}.\""
   ]
  },
  {
   "cell_type": "code",
   "execution_count": 50,
   "id": "d356af30-fcdf-4fc6-8aa0-5eeecca73cb7",
   "metadata": {},
   "outputs": [],
   "source": [
    "FALLBACK_INTEREST = \"Can you tell me more about what you enjoy? For example, do you like solving problems, creating art, or maybe working with people?\"\n",
    "FALLBACK_STRENGTH = \"Are there any subjects where you consistently do well or find interesting?\""
   ]
  },
  {
   "cell_type": "code",
   "execution_count": 51,
   "id": "a9d4c593-9368-4f2b-837a-42ebc178956c",
   "metadata": {},
   "outputs": [],
   "source": [
    "def extract_info(prompt, response):\n",
    "    return [word.strip().lower() for word in response.split(\",\") if word.strip()]\n",
    "\n",
    "def mock_llm_response(career, interests, strengths):\n",
    "    return f\"A career as a {career} fits your interests in {', '.join(interests)} and strengths in {', '.join(strengths)}.\""
   ]
  },
  {
   "cell_type": "code",
   "execution_count": 52,
   "id": "53bfe089-2b7f-490a-932a-71d9f7da84c7",
   "metadata": {},
   "outputs": [],
   "source": [
    "# def extract_info(prompt, response):\n",
    "#     chain = LLMChain(llm=llm, prompt=PromptTemplate.from_template(prompt))\n",
    "#     result = chain.run(response)\n",
    "#     return result.split(\", \") if result else []\n",
    "\n",
    "#     career_scores = {}\n",
    "#     for doc in interest_matches:\n",
    "#         career_index = career_texts.index(doc.page_content)\n",
    "#         career = career_data[career_index]\n",
    "#         score = 0\n",
    "#         score += len(set(career[\"keywords\"]) & set(interests))\n",
    "#         score += len(set(career[\"strengths\"]) & set(strengths))\n",
    "#         career_scores[career[\"career\"]] = score\n",
    "    \n",
    "\n",
    "#     top_careers = sorted(career_scores.items(), key=lambda x: x[1], reverse=True)[:3]\n",
    "#     # return [career_data[career_texts.index(\" \".join(next(c[\"keywords\"] for c in career_data if c[\"career\"] == career)))] for career, _ in top_careers]\n",
    "#     return [word.strip() for word in response.split(\",\")]"
   ]
  },
  {
   "cell_type": "code",
   "execution_count": 53,
   "id": "9fd3d48e-40bf-4936-b64f-9f296d952f72",
   "metadata": {},
   "outputs": [],
   "source": [
    "# def get_recommendations(interests, strengths):\n",
    "#     interest_query = \" \".join(interests)\n",
    "#     interest_matches = vector_store.similarity_search(interest_query, k=5)\n",
    "\n",
    "#     career_scores = {}\n",
    "#     for doc in interest_matches:\n",
    "#         career_index = career_texts.index(doc.page_content)\n",
    "#         career = career_data[career_index]\n",
    "#         score = 0\n",
    "#         # Interest match\n",
    "#         score += len(set(career[\"keywords\"]) & set(interests))\n",
    "#         # Strength match\n",
    "#         score += len(set(career[\"strengths\"]) & set(strengths))\n",
    "#         career_scores[career[\"career\"]] = score\n",
    "    \n",
    "#     top_careers = sorted(career_scores.items(), key=lambda x: x[1], reverse=True)[:3]\n",
    "#     return [career_data[career_texts.index(\" \".join(next(c[\"keywords\"] for c in career_data if c[\"career\"] == career)))] for career, _ in top_careers]"
   ]
  },
  {
   "cell_type": "code",
   "execution_count": 54,
   "id": "6e0045f5-4fb5-45ce-b4b9-6ac180ed5af3",
   "metadata": {},
   "outputs": [],
   "source": [
    "def get_recommendations(interests, strengths):\n",
    "    query = \" \".join(interests)\n",
    "    query_embedding = model.encode(query, convert_to_tensor=True)\n",
    "\n",
    "    similarities = util.pytorch_cos_sim(query_embedding, career_embeddings)[0]\n",
    "    top_k = similarities.topk(3)\n",
    "\n",
    "    top_careers = []\n",
    "    for idx in top_k.indices:\n",
    "        career = career_data[idx]\n",
    "        top_careers.append(career)\n",
    "\n",
    "    return top_careers"
   ]
  },
  {
   "cell_type": "code",
   "execution_count": 55,
   "id": "c732afde-9c93-4dbb-a23a-c4ecd9369d28",
   "metadata": {},
   "outputs": [],
   "source": [
    "# conv agent"
   ]
  },
  {
   "cell_type": "code",
   "execution_count": 58,
   "id": "83487d49-82c8-468a-8100-4f7050393eee",
   "metadata": {},
   "outputs": [],
   "source": [
    "def career_advice_agent():\n",
    "    print(\"Hi! I'm here to help you find career paths that match your interests and strengths. Let's get started!\")\n",
    "    \n",
    "    interest_response = input(\"What are some activities, subjects, or hobbies that you really enjoy? \")\n",
    "    interests = extract_info(INTEREST_PROMPT, interest_response)\n",
    "    if not interests or len(interests) == 1 and not interests[0]:\n",
    "        print(FALLBACK_INTEREST)\n",
    "        interest_response = input()\n",
    "        interests = extract_info(INTEREST_PROMPT, interest_response)\n",
    "    \n",
    "    strength_response = input(\"Great! Now, what subjects do you feel you excel in or enjoy the most at school? \")\n",
    "    strengths = extract_info(STRENGTH_PROMPT, strength_response)\n",
    "    if not strengths or len(strengths) == 1 and not strengths[0]:\n",
    "        print(FALLBACK_STRENGTH)\n",
    "        strength_response = input()\n",
    "        strengths = extract_info(STRENGTH_PROMPT, strength_response)\n",
    "    \n",
    "    recommended_careers = get_recommendations(interests, strengths)\n",
    "    # print(\"\\nBased on what you've shared, here are three career paths that might be perfect for you:\")\n",
    "    # for career in recommended_careers:\n",
    "    #     explanation = llm(EXPLANATION_PROMPT.format(career=career[\"career\"], interests=\", \".join(interests), strengths=\", \".join(strengths)))\n",
    "    #     print(f\"- **{career['career']}**: {explanation}\")\n",
    "    print(\"\\n Based on what you shared, here are some career paths you might enjoy:\\n\")\n",
    "    for rec in recommended_careers:\n",
    "        explanation = mock_llm_response(rec[\"career\"], interests, strengths)\n",
    "        print(f\" {rec['career']}: {explanation}\")\n",
    "\n",
    "    print(\"\\nWould you like to explore more paths?\")\n",
    "\n",
    "    \n",
    "    print(\"\\nWould you like to learn more about any of these careers, or perhaps explore other options?\")\n"
   ]
  },
  {
   "cell_type": "code",
   "execution_count": 59,
   "id": "681c0c58-931b-43a1-8239-88afe54aa5c3",
   "metadata": {},
   "outputs": [
    {
     "name": "stdout",
     "output_type": "stream",
     "text": [
      "Hi! I'm here to help you find career paths that match your interests and strengths. Let's get started!\n"
     ]
    },
    {
     "name": "stdin",
     "output_type": "stream",
     "text": [
      "What are some activities, subjects, or hobbies that you really enjoy?  playing cricket, reading, coding\n",
      "Great! Now, what subjects do you feel you excel in or enjoy the most at school?  cs, maths, physics\n"
     ]
    },
    {
     "name": "stdout",
     "output_type": "stream",
     "text": [
      "\n",
      "🎯 Based on what you shared, here are some career paths you might enjoy:\n",
      "\n",
      "🔹 Software Developer: A career as a Software Developer fits your interests in playing cricket, reading, coding and strengths in cs, maths, physics.\n",
      "🔹 Writer: A career as a Writer fits your interests in playing cricket, reading, coding and strengths in cs, maths, physics.\n",
      "🔹 Sports Coach: A career as a Sports Coach fits your interests in playing cricket, reading, coding and strengths in cs, maths, physics.\n",
      "\n",
      "Would you like to explore more paths?\n",
      "\n",
      "Would you like to learn more about any of these careers, or perhaps explore other options?\n"
     ]
    }
   ],
   "source": [
    "if __name__ == \"__main__\":\n",
    "    career_advice_agent()"
   ]
  },
  {
   "cell_type": "code",
   "execution_count": null,
   "id": "87a8c414-b844-461a-9a43-1aa8e2eb9c3d",
   "metadata": {},
   "outputs": [],
   "source": []
  },
  {
   "cell_type": "code",
   "execution_count": null,
   "id": "39c920e0-cbf5-44ef-95e3-47ee69f812d8",
   "metadata": {},
   "outputs": [],
   "source": []
  }
 ],
 "metadata": {
  "kernelspec": {
   "display_name": "Python 3 (ipykernel)",
   "language": "python",
   "name": "python3"
  },
  "language_info": {
   "codemirror_mode": {
    "name": "ipython",
    "version": 3
   },
   "file_extension": ".py",
   "mimetype": "text/x-python",
   "name": "python",
   "nbconvert_exporter": "python",
   "pygments_lexer": "ipython3",
   "version": "3.12.7"
  }
 },
 "nbformat": 4,
 "nbformat_minor": 5
}
