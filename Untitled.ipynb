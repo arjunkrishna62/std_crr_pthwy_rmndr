{
 "cells": [
  {
   "cell_type": "code",
   "execution_count": 2,
   "id": "1fb01633-211d-4692-bf08-681857229cab",
   "metadata": {},
   "outputs": [
    {
     "name": "stdout",
     "output_type": "stream",
     "text": [
      "ERROR: <class 'openai.RateLimitError'> Error code: 429 - {'error': {'message': 'You exceeded your current quota, please check your plan and billing details. For more information on this error, read the docs: https://platform.openai.com/docs/guides/error-codes/api-errors.', 'type': 'insufficient_quota', 'param': None, 'code': 'insufficient_quota'}}\n"
     ]
    }
   ],
   "source": [
    "import os\n",
    "from openai import OpenAI\n",
    "from dotenv import load_dotenv\n",
    "\n",
    "load_dotenv()\n",
    "client = OpenAI(api_key=os.getenv(\"OPENAI_API_KEY\"))\n",
    "\n",
    "try:\n",
    "    response = client.chat.completions.create(\n",
    "        model=\"gpt-3.5-turbo\",\n",
    "        messages=[{\"role\": \"user\", \"content\": \"Hello\"}]\n",
    "    )\n",
    "    print(\"RESPONSE:\", response.choices[0].message.content)\n",
    "except Exception as e:\n",
    "    print(\"ERROR:\", type(e), e)\n"
   ]
  },
  {
   "cell_type": "code",
   "execution_count": null,
   "id": "b483c86f-707e-4cd5-b599-4a212328baae",
   "metadata": {},
   "outputs": [
    {
     "name": "stdout",
     "output_type": "stream",
     "text": [
      "Found existing installation: openai 1.90.0\n",
      "Uninstalling openai-1.90.0:\n",
      "  Would remove:\n",
      "    /opt/anaconda3/bin/openai\n",
      "    /opt/anaconda3/lib/python3.12/site-packages/openai-1.90.0.dist-info/*\n",
      "    /opt/anaconda3/lib/python3.12/site-packages/openai/*\n",
      "Proceed (Y/n)? "
     ]
    }
   ],
   "source": [
    "%pip uninstall openai\n",
    "%pip install openai==0.28"
   ]
  },
  {
   "cell_type": "code",
   "execution_count": null,
   "id": "eae25ef8-f6b4-4339-b0fd-705a27198f8c",
   "metadata": {},
   "outputs": [],
   "source": [
    "y"
   ]
  },
  {
   "cell_type": "code",
   "execution_count": null,
   "id": "bd5311e8-4234-4494-8be4-0e88ac3e8ce3",
   "metadata": {},
   "outputs": [],
   "source": []
  }
 ],
 "metadata": {
  "kernelspec": {
   "display_name": "Python 3 (ipykernel)",
   "language": "python",
   "name": "python3"
  },
  "language_info": {
   "codemirror_mode": {
    "name": "ipython",
    "version": 3
   },
   "file_extension": ".py",
   "mimetype": "text/x-python",
   "name": "python",
   "nbconvert_exporter": "python",
   "pygments_lexer": "ipython3",
   "version": "3.12.7"
  }
 },
 "nbformat": 4,
 "nbformat_minor": 5
}
